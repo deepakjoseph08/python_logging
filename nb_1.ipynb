{
 "cells": [
  {
   "cell_type": "markdown",
   "metadata": {},
   "source": [
    "# How to import a python module - basically a python script file which resides in the same directory and use it."
   ]
  },
  {
   "cell_type": "markdown",
   "metadata": {},
   "source": [
    "- nb_seed.py is a file in this directory. it has 2 functions, function_1 and function_2. You can import the module into this jupyter notebook using an import statement. \n",
    "- import nb_seed  brings the module into scope of this notebook.\n",
    "- you can call the functions in the nb_seed file, just like you call any function using the \".\" operator. as shown below.\n",
    "- make sure you have only functions in the nb_seed file. If you have any free lines , those lines would get executed first and then you would be able to use the functions inside the nb_seed.py.\n",
    "\n",
    "- When importing a py script which has a mixture of functions and free lines, into the notebook, you may fail to see the print statement in subsequent execution of the import cell. This is because, the jupyter notebook would not re-import it as it is already imported using that file name.\n"
   ]
  },
  {
   "cell_type": "markdown",
   "metadata": {},
   "source": [
    "#### nb_seed_with_free_lines.py\n",
    "\n"
   ]
  },
  {
   "cell_type": "raw",
   "metadata": {},
   "source": [
    "\"\"\"\n",
    "def function_1():\n",
    "\tprint(\"you are in function 1\")\n",
    "\tfor i in range(10):\n",
    "\t\tprint(i)\n",
    "\n",
    "def function_2():\n",
    "\tprint(\"you are in function 2\")\n",
    "\tfor i in range(5):\n",
    "\t\tprint(\"*\"*i)\n",
    "\n",
    "print(\"hello joseph\")\n",
    "\n",
    "\"\"\""
   ]
  },
  {
   "cell_type": "code",
   "execution_count": 3,
   "metadata": {},
   "outputs": [],
   "source": [
    "import nb_seed_with_free_lines"
   ]
  },
  {
   "cell_type": "code",
   "execution_count": 14,
   "metadata": {},
   "outputs": [
    {
     "name": "stdout",
     "output_type": "stream",
     "text": [
      "you are in function 1\n",
      "0\n",
      "1\n",
      "2\n",
      "3\n",
      "4\n",
      "5\n",
      "6\n",
      "7\n",
      "8\n",
      "9\n"
     ]
    }
   ],
   "source": [
    "nb_seed_with_free_lines.function_1()"
   ]
  },
  {
   "cell_type": "raw",
   "metadata": {},
   "source": [
    "\"\"\"\n",
    "#without the dangling print function.\n",
    "\n",
    "def function_1():\n",
    "\tprint(\"you are in function 1\")\n",
    "\tfor i in range(10):\n",
    "\t\tprint(i)\n",
    "\n",
    "def function_2():\n",
    "\tprint(\"you are in function 2\")\n",
    "\tfor i in range(5):\n",
    "\t\tprint(\"*\"*i)\n",
    "\"\"\""
   ]
  },
  {
   "cell_type": "code",
   "execution_count": 1,
   "metadata": {},
   "outputs": [],
   "source": [
    "import nb_seed"
   ]
  },
  {
   "cell_type": "code",
   "execution_count": 2,
   "metadata": {},
   "outputs": [
    {
     "name": "stdout",
     "output_type": "stream",
     "text": [
      "you are in function 1\n",
      "0\n",
      "1\n",
      "2\n",
      "3\n",
      "4\n",
      "5\n",
      "6\n",
      "7\n",
      "8\n",
      "9\n"
     ]
    }
   ],
   "source": [
    "nb_seed.function_1()"
   ]
  },
  {
   "cell_type": "code",
   "execution_count": 3,
   "metadata": {},
   "outputs": [
    {
     "name": "stdout",
     "output_type": "stream",
     "text": [
      "you are in function 2\n",
      "\n",
      "*\n",
      "**\n",
      "***\n",
      "****\n"
     ]
    }
   ],
   "source": [
    "nb_seed.function_2()"
   ]
  },
  {
   "cell_type": "code",
   "execution_count": null,
   "metadata": {},
   "outputs": [],
   "source": []
  }
 ],
 "metadata": {
  "kernelspec": {
   "display_name": "Python 3",
   "language": "python",
   "name": "python3"
  },
  "language_info": {
   "codemirror_mode": {
    "name": "ipython",
    "version": 2
   },
   "file_extension": ".py",
   "mimetype": "text/x-python",
   "name": "python",
   "nbconvert_exporter": "python",
   "pygments_lexer": "ipython2",
   "version": "2.7.16"
  }
 },
 "nbformat": 4,
 "nbformat_minor": 2
}
